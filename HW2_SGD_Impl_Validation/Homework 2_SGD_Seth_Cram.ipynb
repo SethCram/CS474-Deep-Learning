{
 "cells": [
  {
   "cell_type": "markdown",
   "metadata": {},
   "source": [
    "## Homework 2: Wine Quality Prediction Using SGD\n",
    "### Editor: Seth Cram\n",
    "### Course: CS 474/574: Deep Learning/2022 Fall\n",
    "### Due: 09/25/2022\n",
    "\n",
    "\n",
    "Add your code to the following sections:\n",
    "\n",
    "    ## add your code here\n",
    "    #-----------------------\n",
    "\n",
    "    #---------------------------------\n",
    "    \n",
    "Description: In this homework, you are going to practice cross-validation and implement the stochastic gradient optimization (mini-batch) to solve the wine quality prediction problem. Using the following code as your template. Specific requirements:\n",
    "\n",
    "1. Use all function definitions given in the code (e.g., def SGD(X, Y, lr = 0.001, batch_size = 32, epoch = 100):); and do not change the function names and input arguments. (deduct 5 points for doing this)\n",
    "\n",
    "2. Evaluate (Cross-validation) the model trained using GD (20 points)\n",
    "\n",
    "3. SGD implementation. 40 pts\n",
    "   \n",
    "4. Calculate and print out the MSE and MAE values of SGD for the training and test sets (15 points)\n",
    "5. Plot the loss curve of the SGD. (5 points)\n",
    "6. Plot the mse curves on the training and test sets using different models (w_hist). (20 points)\n",
    "\n",
    "### Common mistakes\n",
    "    \n",
    "1. Call GD and SGD using the whole dataset\n",
    "\n",
    "    -- GD and SGD are used to optimize the model (learn w); and we should call them using the training sets\n",
    "   \n",
    "2. Calculate gradient using the whole training set for SGD\n",
    "    \n",
    "    -- In SGD, update gradient only using mini-batches\n",
    "  \n",
    "3. Calculate the loss of each epoch using the average of all minibatches\n",
    "    \n",
    "    -- should use the w of the last mini-batch and the whole training set to calculate the loss  \n",
    "   \n",
    "4. Mix concepts of loss function and evaulation metrics\n",
    "    -- loss function: for optimization purpose (gradient). We use the sum of square errors in this homework. L = 1/2 * sum(y_hat_i - y_i)^2\n",
    "    \n",
    "    -- evaluation metrics: mse and mae: mse = 1/m * sum(y_hat_i - y_i)^2, mae = 1/m * sum(abs(y_hat_i - y_i))"
   ]
  },
  {
   "cell_type": "markdown",
   "metadata": {},
   "source": [
    "### 1. Load data, implement the model, loss function and GD "
   ]
  },
  {
   "cell_type": "code",
   "execution_count": 1,
   "metadata": {},
   "outputs": [
    {
     "name": "stdout",
     "output_type": "stream",
     "text": [
      "Data shape: X: (4898, 11) Y: (4898,)\n"
     ]
    }
   ],
   "source": [
    "import pandas as pd\n",
    "import numpy as np\n",
    "from matplotlib import pyplot as plt\n",
    "\n",
    "## (1) Data preparation\n",
    "df=pd.read_csv('winequality-white.csv', sep = ';')\n",
    "df\n",
    "X = df.values[:, :11]\n",
    "Y = df.values[:, 11]\n",
    "print('Data shape:', 'X:', X.shape, 'Y:', Y.shape)\n",
    "\n",
    "# data normalization\n",
    "min_vals = np.min(X, axis = 0)\n",
    "max_vals = np.max(X, axis = 0)\n",
    "X1 = (X-min_vals)/(max_vals-min_vals)\n",
    "\n",
    "##(2) Assume a linear mode that y = w0*1 + w_1*x_1 +w_2*x_2+...+ w_11*x_11\n",
    "def predict(X, w):\n",
    "    '''\n",
    "    X: input feature vectors:m*n\n",
    "    w: weights\n",
    "    \n",
    "    return Y_hat\n",
    "    '''\n",
    "    # Prediction\n",
    "    Y_hat = np.zeros((X.shape[0]))\n",
    "    for idx, x in enumerate(X):          \n",
    "        y_hat = w[0] + np.dot(w[1:].T, np.c_[x]) # linear model\n",
    "        Y_hat[idx] = y_hat    \n",
    "    return Y_hat\n",
    "\n",
    "## (3) Loss function: L = 1/2 * sum(y_hat_i - y_i)^2\n",
    "def loss(w, X, Y):\n",
    "    '''\n",
    "    w: weights\n",
    "    X: input feature vectors\n",
    "    Y: targets\n",
    "    '''\n",
    "    Y_hat = predict(X, w)\n",
    "    loss = 1/2* np.sum(np.square(Y - Y_hat))\n",
    "    \n",
    "    return loss\n",
    "\n",
    "# Optimization 1: Gradient Descent\n",
    "def GD(X, Y, lr = 0.001, delta = 0.01, max_iter = 100):\n",
    "    '''\n",
    "    X: training data\n",
    "    Y: training target\n",
    "    lr: learning rate\n",
    "    max_iter: the max iterations\n",
    "    '''\n",
    "    \n",
    "    m = len(Y)\n",
    "    b = np.reshape(Y, [Y.shape[0],1])\n",
    "    w = np.random.rand(X.shape[1] + 1, 1)\n",
    "    A = np.c_[np.ones((m, 1)), X]\n",
    "    gradient = A.T.dot(np.dot(A, w)-b)\n",
    "    \n",
    "    loss_hist = np.zeros(max_iter) # history of loss\n",
    "    w_hist = np.zeros((max_iter, w.shape[0])) # history of weight\n",
    "    loss_w = 0\n",
    "    i = 0                  \n",
    "    while(np.linalg.norm(gradient) > delta) and (i < max_iter):\n",
    "        w_hist[i,:] = w.T\n",
    "        loss_w = loss(w, X, Y)\n",
    "        print(i, 'loss:', loss_w)\n",
    "        loss_hist[i] = loss_w\n",
    "        \n",
    "        w = w - lr*gradient        \n",
    "        gradient = A.T.dot(np.dot(A, w)-b) # update the gradient using new w\n",
    "        i = i + 1\n",
    "        \n",
    "    w_star = w  \n",
    "    return w_star, loss_hist, w_hist"
   ]
  },
  {
   "cell_type": "markdown",
   "metadata": {},
   "source": [
    "### 2. Model evaluation using cross-validation (20 points)"
   ]
  },
  {
   "cell_type": "code",
   "execution_count": 2,
   "metadata": {},
   "outputs": [
    {
     "name": "stdout",
     "output_type": "stream",
     "text": [
      "(3428, 11) (1470, 11)\n",
      "(3428,) (1470,)\n"
     ]
    }
   ],
   "source": [
    "## 2.1 Split the dataset into training (70%) and test (30%) sets. (5 points)\n",
    "from sklearn.model_selection import train_test_split\n",
    "\n",
    "## add your code here\n",
    "#-----------------------\n",
    "\n",
    "# data split of 70 training and 30 test\n",
    "X_train, X_test, y_train, y_test = train_test_split(X1, Y, test_size=0.3)\n",
    "\n",
    "print(X_train.shape, X_test.shape)\n",
    "print(y_train.shape, y_test.shape)\n",
    "#---------------------------------"
   ]
  },
  {
   "cell_type": "code",
   "execution_count": 3,
   "metadata": {
    "scrolled": true
   },
   "outputs": [
    {
     "name": "stdout",
     "output_type": "stream",
     "text": [
      "0 loss: 30837.566532100358\n",
      "1 loss: 27395.69960325747\n",
      "2 loss: 24355.277580691014\n",
      "3 loss: 21669.47320208721\n",
      "4 loss: 19296.92146382263\n",
      "5 loss: 17201.08246496524\n",
      "6 loss: 15349.67857360078\n",
      "7 loss: 13714.197246009413\n",
      "8 loss: 12269.451840485666\n",
      "9 loss: 10993.193660901525\n",
      "10 loss: 9865.769254217605\n",
      "11 loss: 8869.817683205923\n",
      "12 loss: 7990.003111396373\n",
      "13 loss: 7212.778581182552\n",
      "14 loss: 6526.177346499\n",
      "15 loss: 5919.628545912188\n",
      "16 loss: 5383.794376889427\n",
      "17 loss: 4910.426263198161\n",
      "18 loss: 4492.237799944257\n",
      "19 loss: 4122.792519188317\n",
      "20 loss: 3796.404747364318\n",
      "21 loss: 3508.0520273812735\n",
      "22 loss: 3253.2977564225866\n",
      "23 loss: 3028.222847812734\n",
      "24 loss: 2829.365364321067\n",
      "25 loss: 2653.66719305862\n",
      "26 loss: 2498.426940587362\n",
      "27 loss: 2361.2583226728557\n",
      "28 loss: 2240.053407746758\n",
      "29 loss: 2132.9501479085275\n",
      "30 loss: 2038.3036973378687\n",
      "31 loss: 1954.661076327814\n",
      "32 loss: 1880.7387906819408\n",
      "33 loss: 1815.4030617413864\n",
      "34 loss: 1757.6523625195728\n",
      "35 loss: 1706.601990944134\n",
      "36 loss: 1661.4704425836408\n",
      "37 loss: 1621.5673729546425\n",
      "38 loss: 1586.2829639892802\n",
      "39 loss: 1555.0785308723748\n",
      "40 loss: 1527.478224562633\n",
      "41 loss: 1503.0617021897253\n",
      "42 loss: 1481.4576524274316\n",
      "43 loss: 1462.33807611248\n",
      "44 loss: 1445.4132340119409\n",
      "45 loss: 1430.4271839183148\n",
      "46 loss: 1417.1538383290142\n",
      "47 loss: 1405.3934819856404\n",
      "48 loss: 1394.969695631796\n",
      "49 loss: 1385.7266386052697\n",
      "50 loss: 1377.5266484076424\n",
      "51 loss: 1370.2481202768565\n",
      "52 loss: 1363.7836341012485\n",
      "53 loss: 1358.038299823405\n",
      "54 loss: 1352.92829584767\n",
      "55 loss: 1348.379577938003\n",
      "56 loss: 1344.3267387190072\n",
      "57 loss: 1340.7120002127194\n",
      "58 loss: 1337.4843238929457\n",
      "59 loss: 1334.5986245490685\n",
      "60 loss: 1332.0150758502723\n",
      "61 loss: 1329.6984969136015\n",
      "62 loss: 1327.617810427005\n",
      "63 loss: 1325.7455639806917\n",
      "64 loss: 1324.0575072337363\n",
      "65 loss: 1322.5322184029242\n",
      "66 loss: 1321.1507743205448\n",
      "67 loss: 1319.8964589789452\n",
      "68 loss: 1318.754506072482\n",
      "69 loss: 1317.7118715711758\n",
      "70 loss: 1316.7570328229617\n",
      "71 loss: 1315.8798110900539\n",
      "72 loss: 1315.0712147859065\n",
      "73 loss: 1314.32330099811\n",
      "74 loss: 1313.6290531642198\n",
      "75 loss: 1312.9822730163319\n",
      "76 loss: 1312.3774851299934\n",
      "77 loss: 1311.809852607196\n",
      "78 loss: 1311.2751025946893\n",
      "79 loss: 1310.7694604903593\n",
      "80 loss: 1310.289591824232\n",
      "81 loss: 1309.8325509188794\n",
      "82 loss: 1309.3957355384355\n",
      "83 loss: 1308.9768468276652\n",
      "84 loss: 1308.5738539240172\n",
      "85 loss: 1308.1849626975736\n",
      "86 loss: 1307.8085881373893\n",
      "87 loss: 1307.4433299588795\n",
      "88 loss: 1307.0879510565298\n",
      "89 loss: 1306.741358470032\n",
      "90 loss: 1306.4025865706603\n",
      "91 loss: 1306.0707822089057\n",
      "92 loss: 1305.7451915945921\n",
      "93 loss: 1305.4251487073852\n",
      "94 loss: 1305.1100650591793\n",
      "95 loss: 1304.7994206506703\n",
      "96 loss: 1304.492755982815\n",
      "97 loss: 1304.1896650001272\n",
      "98 loss: 1303.8897888571173\n",
      "99 loss: 1303.5928104118557\n",
      "(12, 1) (100,) (100, 12)\n"
     ]
    }
   ],
   "source": [
    "## 2.2 Model training using the training set and the GD function (5 points )\n",
    "## add your code here\n",
    "#-----------------------\n",
    "\n",
    "w_star, loss_hist, w_hist = GD(X_train, y_train, lr=0.00001) #lower lr bc overshooting before\n",
    "\n",
    "print(w_star.shape, loss_hist.shape, w_hist.shape)\n",
    "\n",
    "#---------------------------------"
   ]
  },
  {
   "cell_type": "code",
   "execution_count": 4,
   "metadata": {},
   "outputs": [
    {
     "name": "stdout",
     "output_type": "stream",
     "text": [
      "training mse: 0.7603841594876564 and training mae:0.677183871442379\n",
      "test mse: 0.7011992289949088 and test mae:0.658390442183726\n"
     ]
    }
   ],
   "source": [
    "## 2.3. calculating mse&mae values on the training set and test set, respectively. (10 points)\n",
    "\n",
    "#training error\n",
    "## add your code here\n",
    "#-----------------------\n",
    "\n",
    "from sklearn.metrics import mean_squared_error\n",
    "from sklearn.metrics import mean_absolute_error\n",
    "\n",
    "\"\"\"\n",
    "def MSE(Y, Y_hat):\n",
    "    Y_length = len(Y)\n",
    "    Y_hat_length = len(Y_hat)\n",
    "    \n",
    "    #ensure same num of ellys for both target and prediction vals\n",
    "    assert Y_length == Y_hat_length, \"{} target values but only {} prediction values\".format(Y_length, Y_hat_length)\n",
    "    \n",
    "    mse = \n",
    "    \n",
    "    return mse\n",
    "\"\"\"\n",
    "\n",
    "y_train_prediction = predict(X_train, w_star)\n",
    "\n",
    "#w_star = last elly of every w_hist\n",
    "# the resultant prediction from that GD run\n",
    "\n",
    "#mse_train = mean_squared_error(y_true=y_train, y_pred=w_star )\n",
    "mse_train = mean_squared_error(y_true=y_train, y_pred=y_train_prediction )\n",
    "mae_train = mean_absolute_error(y_true=y_train, y_pred=y_train_prediction )\n",
    "\n",
    "print('training mse: {} and training mae:{}'.format(mse_train, mae_train))\n",
    "#---------------------------------\n",
    "\n",
    "\n",
    "## test error\n",
    "## add your code here\n",
    "#-----------------------\n",
    "\n",
    "y_test_prediction = predict(X_test, w_star)\n",
    "\n",
    "mse_test = mean_squared_error(y_true=y_test, y_pred=y_test_prediction )\n",
    "mae_test = mean_absolute_error(y_true=y_test, y_pred=y_test_prediction )\n",
    "\n",
    "print('test mse: {} and test mae:{}'.format(mse_test, mae_test))\n",
    "#---------------------------------"
   ]
  },
  {
   "cell_type": "markdown",
   "metadata": {},
   "source": [
    "### 3. SGD implementation (40 points)\n",
    "Use the SGD function definition given in the code (def SGD(X, Y, lr = 0.001, batch_size = 32, epoch = 100):); and do not change it."
   ]
  },
  {
   "cell_type": "code",
   "execution_count": 5,
   "metadata": {
    "scrolled": true
   },
   "outputs": [],
   "source": [
    "from sklearn.utils import shuffle\n",
    "\n",
    "def SGD(X, Y, lr = 0.001, batch_size = 32, epoch = 100): \n",
    "    '''Implement the minibatch Gradient Desent approach\n",
    "    \n",
    "        X: training data\n",
    "        Y: training target\n",
    "        lr: learning rate\n",
    "        batch_size: batch size\n",
    "        epoch: number of max epoches\n",
    "        \n",
    "        return: w_star, w_hist, loss_hist\n",
    "    '''\n",
    "    m = len(Y)\n",
    "    np.random.seed(9)\n",
    "    w = np.random.rand(X.shape[1]+1, 1)    #(12,1) values in [0, 1)\n",
    "    w_hist = np.zeros((epoch, w.shape[0])) # (epoch,12) \n",
    "    loss_hist = np.zeros(epoch)            # (epoch,)\n",
    "   \n",
    "    \n",
    "    ## add your code here\n",
    "    #-----------------------\n",
    "    for i in range(epoch):\n",
    "        #(1) Shuffle data (X and Y) at the beginning of each epoch. (5 points)\n",
    "        \n",
    "        #perform a permutation w/ repitition \n",
    "        Xshuffled = shuffle(X)\n",
    "        Yshuffled = shuffle(Y)\n",
    "        \n",
    "        #could also use np.random.permutation instead to shuffle inplace (X, Y would change)\n",
    "        \n",
    "        #(2) go through all minibatches and update w. (30 points)\n",
    "        for b in range(int(m/batch_size)): \n",
    "            # prepare the b mininath X_batch and Y_batch. 10 points\n",
    "            \n",
    "            #excludes data that didn't fit in a batch on the end of X and Y\n",
    "            \n",
    "            batchPrevCutoffIndex = batch_size * b\n",
    "            batchCurrCutoffIndex = batch_size * (b+1)\n",
    "            \n",
    "            #print(\"Batch number is {} and the highest batch number is {}.\".format(b, int(m/batch_size)-1))\n",
    "            \n",
    "            #separate shuffled data into batches at the cutoff points within the data\n",
    "            X_batch = Xshuffled[batchPrevCutoffIndex:batchCurrCutoffIndex]\n",
    "            Y_batch = Yshuffled[batchPrevCutoffIndex:batchCurrCutoffIndex]\n",
    "            \n",
    "            #prepare A_batch and b_batch. 10 points\n",
    "\n",
    "            A_batch = np.c_[np.ones((batch_size, 1)), X_batch]\n",
    "            b_batch = np.reshape(Y_batch, [Y_batch.shape[0],1])\n",
    "            \n",
    "            #gradient calcualation and w update. 10 points\n",
    "            gradient = A_batch.T.dot(np.dot(A_batch, w)-b_batch) # update the gradient using new w and only batches\n",
    "            w = w - lr*gradient        \n",
    "            \n",
    "            #print(i, b, X_batch.shape, A_batch.shape)\n",
    "\n",
    "            \n",
    "            \n",
    "        ## (3) Save the loss and current weight for each epoch. 5 points\n",
    "        w_hist[i,:] = w.T\n",
    "        #use the w of the last mini-batch and whole training set to calc loss\n",
    "        loss_w = loss(w, X, Y)\n",
    "        #print(i, 'loss:', loss_w)\n",
    "        loss_hist[i] = loss_w\n",
    "        \n",
    "        #print(i, loss_hist[i])\n",
    "        \n",
    "        ##(4) Decay learning rate at the end of each epoch. \n",
    "        lr = lr * 0.9\n",
    "    #---------------------------------\n",
    "    \n",
    "    w_star = w\n",
    "    return w_star, w_hist, loss_hist  "
   ]
  },
  {
   "cell_type": "markdown",
   "metadata": {},
   "source": [
    "### 4. Calculate and print out the MSE and MAE values of SGD for the training and test sets (15 points)"
   ]
  },
  {
   "cell_type": "code",
   "execution_count": 6,
   "metadata": {
    "scrolled": true
   },
   "outputs": [
    {
     "name": "stdout",
     "output_type": "stream",
     "text": [
      "First 10 predicted wine values: [6.07593401 5.46027957 6.03303806 6.12201225 4.94142222 5.30186933\n",
      " 5.84780472 5.57110456 5.84986397 5.62310181]\n",
      "First 10 true wine values: [7. 5. 6. 6. 5. 7. 6. 6. 6. 5.]\n",
      "training mse: 0.7603841594876564 and training mae: 0.677183871442379\n",
      "test mse: 0.7011992289949088 and test mae: 0.658390442183726\n"
     ]
    }
   ],
   "source": [
    "batch_size = 32\n",
    "n_epochs = 50\n",
    "\n",
    "#train model using SGD\n",
    "w_star_SGD, w_hist_SGD, loss_hist_SGD = SGD(X_train, y_train, lr = 0.0001, batch_size = batch_size, epoch = n_epochs)\n",
    "\n",
    "## add your code here\n",
    "#-----------------------\n",
    "#(1) print out the predicted wine quality values and the true quality \n",
    "# values of the first 10 data samples in the test dataset.  5 points\n",
    "\n",
    "y_test_prediction = predict(X_test, w_star)\n",
    "\n",
    "print(\"First 10 predicted wine values: {}\".format(y_test_prediction[0:10]))\n",
    "print(\"First 10 true wine values: {}\".format(y_test[0:10]))\n",
    "\n",
    "#(2) mse and mae of the training set. 5 points\n",
    "\n",
    "y_train_prediction = predict(X_train, w_star)\n",
    "\n",
    "mse_train = mean_squared_error(y_true=y_train, y_pred=y_train_prediction )\n",
    "mae_train = mean_absolute_error(y_true=y_train, y_pred=y_train_prediction )\n",
    "\n",
    "print('training mse: {} and training mae: {}'.format(mse_train, mae_train))\n",
    "\n",
    "#(3)mse and mae of the test set. 5 points\n",
    "\n",
    "mse_test = mean_squared_error(y_true=y_test, y_pred=y_test_prediction )\n",
    "mae_test = mean_absolute_error(y_true=y_test, y_pred=y_test_prediction )\n",
    "\n",
    "print('test mse: {} and test mae: {}'.format(mse_test, mae_test))\n",
    "\n",
    "#---------------------------------"
   ]
  },
  {
   "cell_type": "markdown",
   "metadata": {},
   "source": [
    "### 5. Plot the loss curve of the SGD. (5 points)"
   ]
  },
  {
   "cell_type": "code",
   "execution_count": 7,
   "metadata": {},
   "outputs": [
    {
     "data": {
      "image/png": "[encoded data removed]",
      "text/plain": [
       "<Figure size 640x480 with 1 Axes>"
      ]
     },
     "metadata": {},
     "output_type": "display_data"
    }
   ],
   "source": [
    "## add your code here\n",
    "#-----------------------\n",
    "\n",
    "t = np.arange(0, len(loss_hist_SGD))\n",
    "\n",
    "#plt.hist(loss_hist_SGD)\n",
    "plt.plot(t, loss_hist_SGD)\n",
    "plt.title(\"Loss Curve of SGD\")\n",
    "#plt.xlabel('Loss')\n",
    "#plt.ylabel('Occurences of loss')\n",
    "plt.xlabel('Epoch')\n",
    "plt.ylabel('Loss')\n",
    "plt.show()\n",
    "\n",
    "#---------------------------------"
   ]
  },
  {
   "cell_type": "markdown",
   "metadata": {},
   "source": [
    "### 6. Plot the mse curves on the training and test sets using different models (w_hist). (20 points)"
   ]
  },
  {
   "cell_type": "code",
   "execution_count": 9,
   "metadata": {},
   "outputs": [
    {
     "data": {
      "image/png": "[encoded data removed]",
      "text/plain": [
       "<Figure size 640x480 with 1 Axes>"
      ]
     },
     "metadata": {},
     "output_type": "display_data"
    }
   ],
   "source": [
    "mse_SGD_train=np.zeros(n_epochs)\n",
    "mse_SGD_test=np.zeros(n_epochs)\n",
    "\n",
    "## add your code here\n",
    "#-----------------------\n",
    "\n",
    "w_hist_SGD_len = len(w_hist_SGD)\n",
    "\n",
    "for i in range(w_hist_SGD_len):\n",
    "    y_train_SGD_prediction = predict(X_train, w_hist_SGD[i])\n",
    "    mse_SGD_train[i] = mean_squared_error(y_true=y_train, y_pred=y_train_SGD_prediction )\n",
    "\n",
    "    y_test_SGD_prediction = predict(X_test, w_hist_SGD[i])\n",
    "    mse_SGD_test[i] = mean_squared_error(y_true=y_test, y_pred=y_test_SGD_prediction )\n",
    "\n",
    "t = np.arange(0,w_hist_SGD_len)\n",
    "\n",
    "plt.plot(t, mse_SGD_train, label=\"Training Set\")\n",
    "plt.plot(t, mse_SGD_test, label=\"Test Set\")\n",
    "plt.legend()\n",
    "plt.title(\"SGD MSE per Epoch\")\n",
    "plt.xlabel('Epoch')\n",
    "plt.ylabel('MSE')\n",
    "plt.show()\n",
    "\n",
    "#---------------------------------"
   ]
  },
  {
   "cell_type": "code",
   "execution_count": null,
   "metadata": {
    "collapsed": true
   },
   "outputs": [],
   "source": []
  }
 ],
 "metadata": {
  "kernelspec": {
   "display_name": "Python 3.10.7 ('JupyterNotebook': venv)",
   "language": "python",
   "name": "python3"
  },
  "language_info": {
   "codemirror_mode": {
    "name": "ipython",
    "version": 3
   },
   "file_extension": ".py",
   "mimetype": "text/x-python",
   "name": "python",
   "nbconvert_exporter": "python",
   "pygments_lexer": "ipython3",
   "version": "3.10.7"
  },
  "vscode": {
   "interpreter": {
    "hash": "7e1b2f627b942c46ec4bf47ff4ea2a9cdb5031d2bd74349327a6cc0e56088180"
   }
  }
 },
 "nbformat": 4,
 "nbformat_minor": 2
}
