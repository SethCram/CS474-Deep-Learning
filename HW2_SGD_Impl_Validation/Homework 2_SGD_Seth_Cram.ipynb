{
 "cells": [
  {
   "cell_type": "markdown",
   "metadata": {},
   "source": [
    "## Homework 2: Wine Quality Prediction Using SGD\n",
    "### Editor: Seth Cram\n",
    "### Course: CS 474/574: Deep Learning/2022 Fall\n",
    "### Due: 09/25/2022\n",
    "\n",
    "\n",
    "Add your code to the following sections:\n",
    "\n",
    "    ## add your code here\n",
    "    #-----------------------\n",
    "\n",
    "    #---------------------------------\n",
    "    \n",
    "Description: In this homework, you are going to practice cross-validation and implement the stochastic gradient optimization (mini-batch) to solve the wine quality prediction problem. Using the following code as your template. Specific requirements:\n",
    "\n",
    "1. Use all function definitions given in the code (e.g., def SGD(X, Y, lr = 0.001, batch_size = 32, epoch = 100):); and do not change the function names and input arguments. (deduct 5 points for doing this)\n",
    "\n",
    "2. Evaluate (Cross-validation) the model trained using GD (20 points)\n",
    "\n",
    "3. SGD implementation. 40 pts\n",
    "   \n",
    "4. Calculate and print out the MSE and MAE values of SGD for the training and test sets (15 points)\n",
    "5. Plot the loss curve of the SGD. (5 points)\n",
    "6. Plot the mse curves on the training and test sets using different models (w_hist). (20 points)\n",
    "\n",
    "### Common mistakes\n",
    "    \n",
    "1. Call GD and SGD using the whole dataset\n",
    "\n",
    "    -- GD and SGD are used to optimize the model (learn w); and we should call them using the training sets\n",
    "   \n",
    "2. Calculate gradient using the whole training set for SGD\n",
    "    \n",
    "    -- In SGD, update gradient only using mini-batches\n",
    "  \n",
    "3. Calculate the loss of each epoch using the average of all minibatches\n",
    "    \n",
    "    -- should use the w of the last mini-batch and the whole training set to calculate the loss  \n",
    "   \n",
    "4. Mix concepts of loss function and evaulation metrics\n",
    "    -- loss function: for optimization purpose (gradient). We use the sum of square errors in this homework. L = 1/2 * sum(y_hat_i - y_i)^2\n",
    "    \n",
    "    -- evaluation metrics: mse and mae: mse = 1/m * sum(y_hat_i - y_i)^2, mae = 1/m * sum(abs(y_hat_i - y_i))"
   ]
  },
  {
   "cell_type": "markdown",
   "metadata": {},
   "source": [
    "### 1. Load data, implement the model, loss function and GD "
   ]
  },
  {
   "cell_type": "code",
   "execution_count": 9,
   "metadata": {},
   "outputs": [
    {
     "name": "stdout",
     "output_type": "stream",
     "text": [
      "Data shape: X: (4898, 11) Y: (4898,)\n"
     ]
    }
   ],
   "source": [
    "import pandas as pd\n",
    "import numpy as np\n",
    "from matplotlib import pyplot as plt\n",
    "\n",
    "## (1) Data preparation\n",
    "df=pd.read_csv('winequality-white.csv', sep = ';')\n",
    "df\n",
    "X = df.values[:, :11]\n",
    "Y = df.values[:, 11]\n",
    "print('Data shape:', 'X:', X.shape, 'Y:', Y.shape)\n",
    "\n",
    "# data normalization\n",
    "min_vals = np.min(X, axis = 0)\n",
    "max_vals = np.max(X, axis = 0)\n",
    "X1 = (X-min_vals)/(max_vals-min_vals)\n",
    "\n",
    "##(2) Assume a linear mode that y = w0*1 + w_1*x_1 +w_2*x_2+...+ w_11*x_11\n",
    "def predict(X, w):\n",
    "    '''\n",
    "    X: input feature vectors:m*n\n",
    "    w: weights\n",
    "    \n",
    "    return Y_hat\n",
    "    '''\n",
    "    # Prediction\n",
    "    Y_hat = np.zeros((X.shape[0]))\n",
    "    for idx, x in enumerate(X):          \n",
    "        y_hat = w[0] + np.dot(w[1:].T, np.c_[x]) # linear model\n",
    "        Y_hat[idx] = y_hat    \n",
    "    return Y_hat\n",
    "\n",
    "## (3) Loss function: L = 1/2 * sum(y_hat_i - y_i)^2\n",
    "def loss(w, X, Y):\n",
    "    '''\n",
    "    w: weights\n",
    "    X: input feature vectors\n",
    "    Y: targets\n",
    "    '''\n",
    "    Y_hat = predict(X, w)\n",
    "    loss = 1/2* np.sum(np.square(Y - Y_hat))\n",
    "    \n",
    "    return loss\n",
    "\n",
    "# Optimization 1: Gradient Descent\n",
    "def GD(X, Y, lr = 0.001, delta = 0.01, max_iter = 100):\n",
    "    '''\n",
    "    X: training data\n",
    "    Y: training target\n",
    "    lr: learning rate\n",
    "    max_iter: the max iterations\n",
    "    '''\n",
    "    \n",
    "    m = len(Y)\n",
    "    b = np.reshape(Y, [Y.shape[0],1])\n",
    "    w = np.random.rand(X.shape[1] + 1, 1)\n",
    "    A = np.c_[np.ones((m, 1)), X]\n",
    "    gradient = A.T.dot(np.dot(A, w)-b)\n",
    "    \n",
    "    loss_hist = np.zeros(max_iter) # history of loss\n",
    "    w_hist = np.zeros((max_iter, w.shape[0])) # history of weight\n",
    "    loss_w = 0\n",
    "    i = 0                  \n",
    "    while(np.linalg.norm(gradient) > delta) and (i < max_iter):\n",
    "        w_hist[i,:] = w.T\n",
    "        loss_w = loss(w, X, Y)\n",
    "        print(i, 'loss:', loss_w)\n",
    "        loss_hist[i] = loss_w\n",
    "        \n",
    "        w = w - lr*gradient        \n",
    "        gradient = A.T.dot(np.dot(A, w)-b) # update the gradient using new w\n",
    "        i = i + 1\n",
    "        \n",
    "    w_star = w  \n",
    "    return w_star, loss_hist, w_hist"
   ]
  },
  {
   "cell_type": "markdown",
   "metadata": {},
   "source": [
    "### 2. Model evaluation using cross-validation (20 points)"
   ]
  },
  {
   "cell_type": "code",
   "execution_count": 10,
   "metadata": {},
   "outputs": [
    {
     "name": "stdout",
     "output_type": "stream",
     "text": [
      "(3428, 11) (1470, 11)\n",
      "(3428,) (1470,)\n"
     ]
    }
   ],
   "source": [
    "## 2.1 Split the dataset into training (70%) and test (30%) sets. (5 points)\n",
    "from sklearn.model_selection import train_test_split\n",
    "\n",
    "## add your code here\n",
    "#-----------------------\n",
    "\n",
    "# data split of 70 training and 30 test\n",
    "X_train, X_test, y_train, y_test = train_test_split(X1, Y, test_size=0.3)\n",
    "\n",
    "print(X_train.shape, X_test.shape)\n",
    "print(y_train.shape, y_test.shape)\n",
    "#---------------------------------"
   ]
  },
  {
   "cell_type": "code",
   "execution_count": 11,
   "metadata": {
    "scrolled": true
   },
   "outputs": [
    {
     "name": "stdout",
     "output_type": "stream",
     "text": [
      "0 loss: 28000.19269852017\n",
      "1 loss: 24896.80174975577\n",
      "2 loss: 22155.557300282206\n",
      "3 loss: 19734.188594784573\n",
      "4 loss: 17595.358866834034\n",
      "5 loss: 15706.08942654229\n",
      "6 loss: 14037.250970708501\n",
      "7 loss: 12563.114269015592\n",
      "8 loss: 11260.953295696854\n",
      "9 loss: 10110.69468505508\n",
      "10 loss: 9094.608103753031\n",
      "11 loss: 8197.032763927338\n",
      "12 loss: 7404.135858643165\n",
      "13 loss: 6703.699193603\n",
      "14 loss: 6084.9307239446925\n",
      "15 loss: 5538.298089120048\n",
      "16 loss: 5055.381578161523\n",
      "17 loss: 4628.744257354515\n",
      "18 loss: 4251.817257059531\n",
      "19 loss: 3918.7984482555676\n",
      "20 loss: 3624.5629459098373\n",
      "21 loss: 3364.5840587055145\n",
      "22 loss: 3134.863465792274\n",
      "23 loss: 2931.8695435494105\n",
      "24 loss: 2752.482891063711\n",
      "25 loss: 2593.9482140630616\n",
      "26 loss: 2453.831825124714\n",
      "27 loss: 2329.9841046070824\n",
      "28 loss: 2220.5063432721736\n",
      "29 loss: 2123.7214551524785\n",
      "30 loss: 2038.1481089139133\n",
      "31 loss: 1962.4778786960733\n",
      "32 loss: 1895.555061985894\n",
      "33 loss: 1836.3588532193055\n",
      "34 loss: 1783.9875981421087\n",
      "35 loss: 1737.64488605663\n",
      "36 loss: 1696.627265429715\n",
      "37 loss: 1660.313393377693\n",
      "38 loss: 1628.1544516611978\n",
      "39 loss: 1599.665681358406\n",
      "40 loss: 1574.4189056406626\n",
      "41 loss: 1552.0359253157408\n",
      "42 loss: 1532.182685266261\n",
      "43 loss: 1514.5641218017083\n",
      "44 loss: 1498.9196114454412\n",
      "45 loss: 1485.0189509551064\n",
      "46 loss: 1472.658806569053\n",
      "47 loss: 1461.6595777090488\n",
      "48 loss: 1451.8626267625223\n",
      "49 loss: 1443.1278322142512\n",
      "50 loss: 1435.331427385028\n",
      "51 loss: 1428.3640914402604\n",
      "52 loss: 1422.129263222685\n",
      "53 loss: 1416.5416519003818\n",
      "54 loss: 1411.5259214571342\n",
      "55 loss: 1407.0155287336406\n",
      "56 loss: 1402.9516970965915\n",
      "57 loss: 1399.2825099046606\n",
      "58 loss: 1395.9621097882894\n",
      "59 loss: 1392.949991392316\n",
      "60 loss: 1390.21037667214\n",
      "61 loss: 1387.7116631074855\n",
      "62 loss: 1385.4259363225665\n",
      "63 loss: 1383.3285395949192\n",
      "64 loss: 1381.3976936126514\n",
      "65 loss: 1379.6141606149454\n",
      "66 loss: 1377.960947735244\n",
      "67 loss: 1376.4230449712438\n",
      "68 loss: 1374.987193739939\n",
      "69 loss: 1373.641682447719\n",
      "70 loss: 1372.3761659222305\n",
      "71 loss: 1371.181505920772\n",
      "72 loss: 1370.0496302551037\n",
      "73 loss: 1368.9734083596854\n",
      "74 loss: 1367.9465413840273\n",
      "75 loss: 1366.9634651138279\n",
      "76 loss: 1366.019264223496\n",
      "77 loss: 1365.1095965374088\n",
      "78 loss: 1364.2306261316523\n",
      "79 loss: 1363.3789642443564\n",
      "80 loss: 1362.5516170831734\n",
      "81 loss: 1361.745939724845\n",
      "82 loss: 1360.9595953957657\n",
      "83 loss: 1360.1905195054574\n",
      "84 loss: 1359.4368878781706\n",
      "85 loss: 1358.6970886926072\n",
      "86 loss: 1357.9696976969217\n",
      "87 loss: 1357.2534563167142\n",
      "88 loss: 1356.547252318328\n",
      "89 loss: 1355.8501027291866\n",
      "90 loss: 1355.1611387517262\n",
      "91 loss: 1354.479592438219\n",
      "92 loss: 1353.8047849209534\n",
      "93 loss: 1353.1361160162205\n",
      "94 loss: 1352.4730550417594\n",
      "95 loss: 1351.815132706011\n",
      "96 loss: 1351.1619339440836\n",
      "97 loss: 1350.513091589926\n",
      "98 loss: 1349.8682807870987\n",
      "99 loss: 1349.227214051934\n",
      "(12, 1) (100,) (100, 12)\n"
     ]
    }
   ],
   "source": [
    "## 2.2 Model training using the training set and the GD function (5 points )\n",
    "## add your code here\n",
    "#-----------------------\n",
    "\n",
    "w_star, loss_hist, w_hist = GD(X_train, y_train, lr=0.00001) #lower lr bc overshooting before\n",
    "\n",
    "print(w_star.shape, loss_hist.shape, w_hist.shape)\n",
    "\n",
    "#---------------------------------"
   ]
  },
  {
   "cell_type": "code",
   "execution_count": 12,
   "metadata": {},
   "outputs": [
    {
     "name": "stdout",
     "output_type": "stream",
     "text": [
      "training mse: 0.7868084229363703 and training mae:0.6934806160845811\n",
      "test mse: 0.8590214313988694 and test mae:0.7229868444777438\n"
     ]
    }
   ],
   "source": [
    "## 2.3. calculating mse&mae values on the training set and test set, respectively. (10 points)\n",
    "\n",
    "#training error\n",
    "## add your code here\n",
    "#-----------------------\n",
    "\n",
    "from sklearn.metrics import mean_squared_error\n",
    "from sklearn.metrics import mean_absolute_error\n",
    "\n",
    "y_train_prediction = predict(X_train, w_star)\n",
    "\n",
    "#w_star = last elly of every w_hist\n",
    "# the resultant prediction from that GD run\n",
    "\n",
    "#mse_train = mean_squared_error(y_true=y_train, y_pred=w_star )\n",
    "mse_train = mean_squared_error(y_true=y_train, y_pred=y_train_prediction )\n",
    "mae_train = mean_absolute_error(y_true=y_train, y_pred=y_train_prediction )\n",
    "\n",
    "print('training mse: {} and training mae:{}'.format(mse_train, mae_train))\n",
    "#---------------------------------\n",
    "\n",
    "\n",
    "## test error\n",
    "## add your code here\n",
    "#-----------------------\n",
    "\n",
    "y_test_pred = predict(X_test, w_star)\n",
    "\n",
    "mse_test = mean_squared_error(y_true=y_test, y_pred=y_test_pred )\n",
    "mae_test = mean_absolute_error(y_true=y_test, y_pred=y_test_pred )\n",
    "\n",
    "print('test mse: {} and test mae:{}'.format(mse_test, mae_test))\n",
    "#---------------------------------"
   ]
  },
  {
   "cell_type": "markdown",
   "metadata": {},
   "source": [
    "### 3. SGD implementation (40 points)\n",
    "Use the SGD function definition given in the code (def SGD(X, Y, lr = 0.001, batch_size = 32, epoch = 100):); and do not change it."
   ]
  },
  {
   "cell_type": "code",
   "execution_count": 13,
   "metadata": {
    "scrolled": true
   },
   "outputs": [],
   "source": [
    "from sklearn.utils import shuffle\n",
    "\n",
    "def SGD(X, Y, lr = 0.001, batch_size = 32, epoch = 100): \n",
    "    '''Implement the minibatch Gradient Desent approach\n",
    "    \n",
    "        X: training data\n",
    "        Y: training target\n",
    "        lr: learning rate\n",
    "        batch_size: batch size\n",
    "        epoch: number of max epoches\n",
    "        \n",
    "        return: w_star, w_hist, loss_hist\n",
    "    '''\n",
    "    m = len(Y)\n",
    "    np.random.seed(9)\n",
    "    w = np.random.rand(X.shape[1]+1, 1)    #(12,1) values in [0, 1)\n",
    "    w_hist = np.zeros((epoch, w.shape[0])) # (epoch,12) \n",
    "    loss_hist = np.zeros(epoch)            # (epoch,)\n",
    "   \n",
    "    \n",
    "    ## add your code here\n",
    "    #-----------------------\n",
    "    for i in range(epoch):\n",
    "        #(1) Shuffle data (X and Y) at the beginning of each epoch. (5 points)\n",
    "        \n",
    "        \"\"\"\n",
    "        should use X_shuffle, Y_shuffle = shuffle(X,Y) to shuffle X and Y at same time.(-2)\n",
    "        \"\"\"\n",
    "        #perform a permutation w/ repitition \n",
    "        Xshuffled = shuffle(X)\n",
    "        Yshuffled = shuffle(Y)\n",
    "        \n",
    "        #could also use np.random.permutation instead to shuffle inplace (X, Y would change)\n",
    "        \n",
    "        #(2) go through all minibatches and update w. (30 points)\n",
    "        for b in range(int(m/batch_size)): \n",
    "            # prepare the b mininath X_batch and Y_batch. 10 points\n",
    "            \n",
    "            #excludes data that didn't fit in a batch on the end of X and Y\n",
    "            \n",
    "            batchPrevCutoffIndex = batch_size * b\n",
    "            batchCurrCutoffIndex = batch_size * (b+1)\n",
    "            \n",
    "            #print(\"Batch number is {} and the highest batch number is {}.\".format(b, int(m/batch_size)-1))\n",
    "            \n",
    "            #separate shuffled data into batches at the cutoff points within the data\n",
    "            X_batch = Xshuffled[batchPrevCutoffIndex:batchCurrCutoffIndex]\n",
    "            Y_batch = Yshuffled[batchPrevCutoffIndex:batchCurrCutoffIndex]\n",
    "            \n",
    "            #prepare A_batch and b_batch. 10 points\n",
    "\n",
    "            A_batch = np.c_[np.ones((batch_size, 1)), X_batch]\n",
    "            b_batch = np.reshape(Y_batch, [Y_batch.shape[0],1])\n",
    "            \n",
    "            #gradient calcualation and w update. 10 points\n",
    "            gradient = A_batch.T.dot(np.dot(A_batch, w)-b_batch) # update the gradient using new w and only batches\n",
    "            w = w - lr*gradient        \n",
    "            \n",
    "            #print(i, b, X_batch.shape, A_batch.shape)\n",
    "\n",
    "            \n",
    "            \n",
    "        ## (3) Save the loss and current weight for each epoch. 5 points\n",
    "        w_hist[i,:] = w.T\n",
    "        \"\"\"\n",
    "        should use the w of the last mini-batch and the whole training set (Xshuffled, Yshuffled) to calculate the loss (-2.5)\n",
    "        \"\"\"\n",
    "        #use the w of the last mini-batch and whole training set to calc loss\n",
    "        loss_w = loss(w, X, Y)\n",
    "        #print(i, 'loss:', loss_w)\n",
    "        loss_hist[i] = loss_w\n",
    "        \n",
    "        #print(i, loss_hist[i])\n",
    "        \n",
    "        ##(4) Decay learning rate at the end of each epoch. \n",
    "        lr = lr * 0.9\n",
    "    #---------------------------------\n",
    "    \n",
    "    w_star = w\n",
    "    return w_star, w_hist, loss_hist  "
   ]
  },
  {
   "cell_type": "markdown",
   "metadata": {},
   "source": [
    "### 4. Calculate and print out the MSE and MAE values of SGD for the training and test sets (15 points)"
   ]
  },
  {
   "cell_type": "code",
   "execution_count": 14,
   "metadata": {
    "scrolled": true
   },
   "outputs": [
    {
     "name": "stdout",
     "output_type": "stream",
     "text": [
      "First 10 predicted wine values: [6.40134753 5.97788314 5.55057698 5.75770695 6.02949434 5.94930709\n",
      " 5.7102843  5.99810193 6.12324138 5.74900617]\n",
      "First 10 true wine values: [6. 5. 5. 5. 6. 6. 6. 6. 6. 6.]\n",
      "training mse: 0.7305199419612144 and training mae: 0.6666746496502969\n",
      "test mse: 0.8058559354350682 and test mae: 0.6966591071327303\n"
     ]
    }
   ],
   "source": [
    "batch_size = 32\n",
    "n_epochs = 50\n",
    "\n",
    "#train model using SGD\n",
    "w_star_SGD, w_hist_SGD, loss_hist_SGD = SGD(X_train, y_train, lr = 0.0001, batch_size = batch_size, epoch = n_epochs)\n",
    "\n",
    "## add your code here\n",
    "#-----------------------\n",
    "#(1) print out the predicted wine quality values and the true quality \n",
    "# values of the first 10 data samples in the test dataset.  5 points\n",
    "\n",
    "y_test_SGD_prediction = predict(X_test, w_star_SGD)\n",
    "\n",
    "print(\"First 10 predicted wine values: {}\".format(y_test_SGD_prediction[0:10]))\n",
    "print(\"First 10 true wine values: {}\".format(y_test[0:10]))\n",
    "\n",
    "#(2) mse and mae of the training set. 5 points\n",
    "\n",
    "y_train_SGD_prediction = predict(X_train, w_star_SGD)\n",
    "\n",
    "mse_train = mean_squared_error(y_true=y_train, y_pred=y_train_SGD_prediction  )\n",
    "mae_train = mean_absolute_error(y_true=y_train, y_pred=y_train_SGD_prediction  )\n",
    "\n",
    "print('training mse: {} and training mae: {}'.format(mse_train, mae_train))\n",
    "\n",
    "#(3)mse and mae of the test set. 5 points\n",
    "\n",
    "mse_test = mean_squared_error(y_true=y_test, y_pred=y_test_SGD_prediction )\n",
    "mae_test = mean_absolute_error(y_true=y_test, y_pred=y_test_SGD_prediction )\n",
    "\n",
    "print('test mse: {} and test mae: {}'.format(mse_test, mae_test))\n",
    "\n",
    "#---------------------------------"
   ]
  },
  {
   "cell_type": "markdown",
   "metadata": {},
   "source": [
    "### 5. Plot the loss curve of the SGD. (5 points)"
   ]
  },
  {
   "cell_type": "code",
   "execution_count": 17,
   "metadata": {},
   "outputs": [
    {
     "data": {
      "image/png": "[encoded data removed]",
      "text/plain": [
       "<Figure size 640x480 with 1 Axes>"
      ]
     },
     "metadata": {},
     "output_type": "display_data"
    }
   ],
   "source": [
    "## add your code here\n",
    "#-----------------------\n",
    "\n",
    "t = np.arange(0, len(loss_hist_SGD))\n",
    "\n",
    "#plt.hist(loss_hist_SGD)\n",
    "plt.plot(t, loss_hist_SGD)\n",
    "plt.title(\"Loss Curve of SGD\")\n",
    "#plt.xlabel('Loss')\n",
    "#plt.ylabel('Occurences of loss')\n",
    "plt.xlabel('Epoch')\n",
    "plt.ylabel('Loss')\n",
    "plt.show()\n",
    "\n",
    "#---------------------------------"
   ]
  },
  {
   "cell_type": "markdown",
   "metadata": {},
   "source": [
    "### 6. Plot the mse curves on the training and test sets using different models (w_hist). (20 points)"
   ]
  },
  {
   "cell_type": "code",
   "execution_count": 16,
   "metadata": {},
   "outputs": [
    {
     "data": {
      "image/png": "[encoded data removed]",
      "text/plain": [
       "<Figure size 640x480 with 1 Axes>"
      ]
     },
     "metadata": {},
     "output_type": "display_data"
    }
   ],
   "source": [
    "mse_SGD_train=np.zeros(n_epochs)\n",
    "mse_SGD_test=np.zeros(n_epochs)\n",
    "\n",
    "## add your code here\n",
    "#-----------------------\n",
    "\n",
    "w_hist_SGD_len = len(w_hist_SGD)\n",
    "\n",
    "for i in range(w_hist_SGD_len):\n",
    "    y_train_SGD_prediction = predict(X_train, w_hist_SGD[i])\n",
    "    mse_SGD_train[i] = mean_squared_error(y_true=y_train, y_pred=y_train_SGD_prediction )\n",
    "\n",
    "    y_test_SGD_prediction = predict(X_test, w_hist_SGD[i])\n",
    "    mse_SGD_test[i] = mean_squared_error(y_true=y_test, y_pred=y_test_SGD_prediction )\n",
    "\n",
    "t = np.arange(0,w_hist_SGD_len)\n",
    "\n",
    "plt.plot(t, mse_SGD_train, label=\"Training Set\")\n",
    "plt.plot(t, mse_SGD_test, label=\"Test Set\")\n",
    "plt.legend()\n",
    "plt.title(\"SGD MSE per Epoch\")\n",
    "plt.xlabel('Epoch')\n",
    "plt.ylabel('MSE')\n",
    "plt.show()\n",
    "\n",
    "#---------------------------------"
   ]
  },
  {
   "cell_type": "code",
   "execution_count": null,
   "metadata": {
    "collapsed": true
   },
   "outputs": [],
   "source": []
  }
 ],
 "metadata": {
  "kernelspec": {
   "display_name": "Python 3.10.7 ('JupyterNotebook': venv)",
   "language": "python",
   "name": "python3"
  },
  "language_info": {
   "codemirror_mode": {
    "name": "ipython",
    "version": 3
   },
   "file_extension": ".py",
   "mimetype": "text/x-python",
   "name": "python",
   "nbconvert_exporter": "python",
   "pygments_lexer": "ipython3",
   "version": "3.10.7"
  },
  "vscode": {
   "interpreter": {
    "hash": "7e1b2f627b942c46ec4bf47ff4ea2a9cdb5031d2bd74349327a6cc0e56088180"
   }
  }
 },
 "nbformat": 4,
 "nbformat_minor": 2
}
